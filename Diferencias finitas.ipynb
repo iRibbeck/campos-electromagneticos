{
 "cells": [
  {
   "cell_type": "markdown",
   "metadata": {},
   "source": [
    "# Potencial eléctrico en una región cerrada con condiciones de frontera"
   ]
  },
  {
   "cell_type": "markdown",
   "metadata": {},
   "source": [
    "En el siguiente algoritmo se procede a encontrar el potencial electrico en una región rectangular de puntos equidistantes utilizando el método numérico de iteración o diferencias finitas.\n"
   ]
  },
  {
   "cell_type": "code",
   "execution_count": null,
   "metadata": {},
   "outputs": [],
   "source": [
    "\"\"\"\n",
    "Created on Sat Nov 24 2018\n",
    "\n",
    "@author: Ignacio Ribbeck \n",
    "\n",
    "@email: iRibbeck@outlook.com\n",
    "\"\"\"\n",
    "\n",
    "import numpy as np\n",
    "import matplotlib.pyplot as plt\n",
    "from matplotlib.pyplot import figure"
   ]
  },
  {
   "cell_type": "markdown",
   "metadata": {},
   "source": [
    "v1 = potencial de la frontera izquierda\n",
    "\n",
    "v2 = potencial de la frontera superior\n",
    "\n",
    "v3 = potencial de la frontera derecha\n",
    "\n",
    "v4 = potencial de la frontera inferior"
   ]
  },
  {
   "cell_type": "code",
   "execution_count": null,
   "metadata": {},
   "outputs": [],
   "source": [
    "#Potencial de las fronteras\n",
    "v1=100\n",
    "v2=0\n",
    "v3=100\n",
    "v4=0\n",
    "\n",
    "#numero de puntos por eje \n",
    "nx=20\n",
    "ny=20\n",
    "\n",
    "#numero de iteraciones\n",
    "ni=1000\n"
   ]
  },
  {
   "cell_type": "code",
   "execution_count": null,
   "metadata": {},
   "outputs": [],
   "source": [
    "Crear una matriz de ceros de la dimension de los puntos definidos anteriormente, estos serán los potenciales iniciales los cuales serán iterados mas adelante"
   ]
  },
  {
   "cell_type": "code",
   "execution_count": null,
   "metadata": {},
   "outputs": [],
   "source": [
    "v = np.zeros((nx,ny))"
   ]
  },
  {
   "cell_type": "code",
   "execution_count": null,
   "metadata": {},
   "outputs": [],
   "source": [
    "#Asignar los potenciales\n",
    "for i in range(1,nx):\n",
    "    v[i][0] = v1        #Primera columna, fila 1 hasta nx\n",
    "    v[i][-1] = v3       #Ultima culumna, fila 1 hasta nx\n",
    "\n",
    "for j in range(1,ny):\n",
    "    v[0,j] = v4         #Primera fila, columna 1 hasta ny\n",
    "    v[-1,j] = v2        #Ultima fila, columna 1 hasta ny\n",
    "    \n",
    "#Potenciales en las intersecciones entre fronteras    \n",
    "v[0,0] = 0.5*(v1 + v4)\n",
    "v[-1,0] = 0.5*(v1 + v2)\n",
    "v[0,-1] = 0.5*(v3 + v4)\n",
    "v[-1,-1] = 0.5*(v2 + v3)"
   ]
  },
  {
   "cell_type": "markdown",
   "metadata": {},
   "source": [
    "### Calculo del potencial en cada punto de la malla aplicando la ecuacion de laplace por medio de diferencias finitas"
   ]
  },
  {
   "cell_type": "code",
   "execution_count": null,
   "metadata": {},
   "outputs": [],
   "source": [
    "for k in range(ni):\n",
    "    for i in range(1,nx-1):\n",
    "        for j in range(1,ny-1):\n",
    "            v[i,j] = 0.25*( v[i-1,j] + v[i,j+1] + v[i+1,j] + v[i,j-1] )"
   ]
  },
  {
   "cell_type": "code",
   "execution_count": null,
   "metadata": {},
   "outputs": [],
   "source": [
    "plt.figure(figsize=(7,6))\n",
    "plt.pcolormesh(v, shading='gouraud', cmap='rainbow')\n",
    "plt.grid()\n",
    "plt.xlabel('$X$',fontsize=18)\n",
    "plt.ylabel('$Y$',fontsize=18)\n",
    "plt.title('$V(x,y)=volts$',fontsize=18)\n",
    "clb = plt.colorbar()\n",
    "clb.set_label('$V(x,y)=volts$', labelpad=25, y=0.5, rotation=270,fontsize=18)\n",
    "plt.show\n"
   ]
  }
 ],
 "metadata": {
  "kernelspec": {
   "display_name": "Python 3",
   "language": "python",
   "name": "python3"
  },
  "language_info": {
   "codemirror_mode": {
    "name": "ipython",
    "version": 3
   },
   "file_extension": ".py",
   "mimetype": "text/x-python",
   "name": "python",
   "nbconvert_exporter": "python",
   "pygments_lexer": "ipython3",
   "version": "3.7.0"
  }
 },
 "nbformat": 4,
 "nbformat_minor": 2
}
